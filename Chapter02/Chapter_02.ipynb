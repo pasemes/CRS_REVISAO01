{
  "cells": [
    {
      "cell_type": "markdown",
      "metadata": {
        "id": "view-in-github",
        "colab_type": "text"
      },
      "source": [
        "<a href=\"https://colab.research.google.com/github/pasemes/CRS_REVISAO01/blob/master/Chapter02/Chapter_02.ipynb\" target=\"_parent\"><img src=\"https://colab.research.google.com/assets/colab-badge.svg\" alt=\"Open In Colab\"/></a>"
      ]
    },
    {
      "cell_type": "markdown",
      "metadata": {
        "id": "uXWFqIwjiRAB"
      },
      "source": [
        "<a target=\"_blank\" href=\"https://colab.research.google.com/github/PacktPublishing/Building-Agentic-AI-Systems/blob/main/Chapter_02.ipynb\">\n",
        "  <img src=\"https://colab.research.google.com/assets/colab-badge.svg\" alt=\"Open In Colab\"/>\n",
        "</a>\n",
        "\n",
        "# Chapter 2: Principles of Agentic Systems\n",
        "---\n",
        "\n",
        "### Implementing Algorithm 1: Travel Booking Assistant Algorithm with Agency and Autonomy\n",
        "\n",
        "This is a simple Python implementation of Algorithm 1 in Chapter 2."
      ]
    },
    {
      "cell_type": "code",
      "execution_count": 6,
      "metadata": {
        "id": "1MyolrsjiRAE",
        "outputId": "d3d378a1-5dd8-42c6-f429-bef38ade492d",
        "colab": {
          "base_uri": "https://localhost:8080/",
          "height": 397
        }
      },
      "outputs": [
        {
          "output_type": "error",
          "ename": "ModuleNotFoundError",
          "evalue": "No module named 'travel_provider'",
          "traceback": [
            "\u001b[0;31m---------------------------------------------------------------------------\u001b[0m",
            "\u001b[0;31mModuleNotFoundError\u001b[0m                       Traceback (most recent call last)",
            "\u001b[0;32m<ipython-input-6-16380e2fa80a>\u001b[0m in \u001b[0;36m<cell line: 0>\u001b[0;34m()\u001b[0m\n\u001b[0;32m----> 1\u001b[0;31m \u001b[0;32mfrom\u001b[0m \u001b[0mtravel_provider\u001b[0m \u001b[0;32mimport\u001b[0m \u001b[0mtravel_provider\u001b[0m\u001b[0;34m\u001b[0m\u001b[0;34m\u001b[0m\u001b[0m\n\u001b[0m\u001b[1;32m      2\u001b[0m \u001b[0;32mfrom\u001b[0m \u001b[0mtyping\u001b[0m \u001b[0;32mimport\u001b[0m \u001b[0mList\u001b[0m\u001b[0;34m,\u001b[0m \u001b[0mDict\u001b[0m\u001b[0;34m,\u001b[0m \u001b[0mAny\u001b[0m\u001b[0;34m\u001b[0m\u001b[0;34m\u001b[0m\u001b[0m\n\u001b[1;32m      3\u001b[0m \u001b[0;34m\u001b[0m\u001b[0m\n\u001b[1;32m      4\u001b[0m \u001b[0;32mclass\u001b[0m \u001b[0mTravelAgent\u001b[0m\u001b[0;34m:\u001b[0m\u001b[0;34m\u001b[0m\u001b[0;34m\u001b[0m\u001b[0m\n\u001b[1;32m      5\u001b[0m     \u001b[0;32mdef\u001b[0m \u001b[0m__init__\u001b[0m\u001b[0;34m(\u001b[0m\u001b[0mself\u001b[0m\u001b[0;34m,\u001b[0m \u001b[0mname\u001b[0m\u001b[0;34m:\u001b[0m \u001b[0mstr\u001b[0m\u001b[0;34m)\u001b[0m\u001b[0;34m:\u001b[0m\u001b[0;34m\u001b[0m\u001b[0;34m\u001b[0m\u001b[0m\n",
            "\u001b[0;31mModuleNotFoundError\u001b[0m: No module named 'travel_provider'",
            "",
            "\u001b[0;31m---------------------------------------------------------------------------\u001b[0;32m\nNOTE: If your import is failing due to a missing package, you can\nmanually install dependencies using either !pip or !apt.\n\nTo view examples of installing some common dependencies, click the\n\"Open Examples\" button below.\n\u001b[0;31m---------------------------------------------------------------------------\u001b[0m\n"
          ],
          "errorDetails": {
            "actions": [
              {
                "action": "open_url",
                "actionText": "Open Examples",
                "url": "/notebooks/snippets/importing_libraries.ipynb"
              }
            ]
          }
        }
      ],
      "source": [
        "from travel_provider import travel_provider\n",
        "from typing import List, Dict, Any\n",
        "\n",
        "class TravelAgent:\n",
        "    def __init__(self, name: str):\n",
        "        self.name = name\n",
        "        self.goals: List[str] = []\n",
        "        self.knowledge_base: Dict[str, Any] = {}\n",
        "\n",
        "    def set_goal(self, goal: str):\n",
        "        \"\"\"Agency: Defining objectives\"\"\"\n",
        "        self.goals.append(goal)\n",
        "        print(f\"Goal set: {goal}\")\n",
        "\n",
        "    def update_knowledge(self, departure: str, destination: str):\n",
        "        \"\"\"Agency: Acquiring information from an API, and scoring\"\"\"\n",
        "        # Simulating API call to get flight options\n",
        "        response = travel_provider.flight_lookup(departure, destination)\n",
        "        if response['status_code'] == 200:\n",
        "            flight_options = response['flight_options']\n",
        "            # Simple scoring based on price (lower is better)\n",
        "            scored_options = [\n",
        "                {**flight, 'score': 1000 / flight['price']}\n",
        "                for flight in flight_options\n",
        "            ]\n",
        "            self.knowledge_base['flight_options'] = scored_options\n",
        "            print(f\"Knowledge updated with {len(scored_options)} flight options\")\n",
        "        else:\n",
        "            print(\"Failed to fetch flight information\")\n",
        "\n",
        "    def make_decision(self) -> Dict[str, Any]:\n",
        "        \"\"\"Autonomy: Independent decision-making\"\"\"\n",
        "        if 'flight_options' not in self.knowledge_base:\n",
        "            raise ValueError(\"No flight options available for decision-making\")\n",
        "        best_option = max(self.knowledge_base['flight_options'], key=lambda x: x['score'])\n",
        "        print(f\"Decision made: Selected flight {best_option['airline']}\")\n",
        "        return best_option\n",
        "\n",
        "    def book_travel(self, departure: str, destination: str):\n",
        "        \"\"\"Agency: Execute action on behalf of user\"\"\"\n",
        "        print(f\"Agent {self.name} is booking travel from {departure} to {destination}\")\n",
        "\n",
        "        self.set_goal(f\"Book flight from {departure} to {destination}\")\n",
        "        self.update_knowledge(departure, destination)\n",
        "\n",
        "        try:\n",
        "            best_flight = self.make_decision()\n",
        "            # Simulating booking process\n",
        "            booking_confirmation = f\"BOOK-{best_flight['airline']}-{self.name.upper()}\"\n",
        "            self.knowledge_base['booking_confirmation'] = booking_confirmation\n",
        "            print(f\"Booking confirmed: {booking_confirmation}\")\n",
        "        except Exception as e:\n",
        "            print(f\"Booking failed: {str(e)}\")\n",
        "\n",
        "        return self\n",
        "\n",
        "# Usage example\n",
        "if __name__ == \"__main__\":\n",
        "    agent = TravelAgent(\"TripPlanner\")\n",
        "    agent.book_travel(\"SAN\", \"SEA\")\n",
        "    print(\"\\n----------- Final Agent State: -----------\")\n",
        "    print(f\"Name: {agent.name}\")\n",
        "    print(f\"Goals: {agent.goals}\")\n",
        "    print(f\"Knowledge Base: {agent.knowledge_base}\")\n",
        "    if 'booking_confirmation' in agent.knowledge_base:\n",
        "        print(f\"Booking Confirmation: {agent.knowledge_base['booking_confirmation']}\")"
      ]
    }
  ],
  "metadata": {
    "kernelspec": {
      "display_name": "packt_book",
      "language": "python",
      "name": "python3"
    },
    "language_info": {
      "codemirror_mode": {
        "name": "ipython",
        "version": 3
      },
      "file_extension": ".py",
      "mimetype": "text/x-python",
      "name": "python",
      "nbconvert_exporter": "python",
      "pygments_lexer": "ipython3",
      "version": "3.11.9"
    },
    "colab": {
      "provenance": [],
      "toc_visible": true,
      "include_colab_link": true
    }
  },
  "nbformat": 4,
  "nbformat_minor": 0
}